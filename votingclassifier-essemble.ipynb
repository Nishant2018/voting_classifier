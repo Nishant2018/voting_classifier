{
 "cells": [
  {
   "cell_type": "code",
   "execution_count": 1,
   "id": "db236202",
   "metadata": {
    "_cell_guid": "b1076dfc-b9ad-4769-8c92-a6c4dae69d19",
    "_uuid": "8f2839f25d086af736a60e9eeb907d3b93b6e0e5",
    "execution": {
     "iopub.execute_input": "2023-12-23T05:47:31.977457Z",
     "iopub.status.busy": "2023-12-23T05:47:31.976559Z",
     "iopub.status.idle": "2023-12-23T05:47:32.410612Z",
     "shell.execute_reply": "2023-12-23T05:47:32.409501Z"
    },
    "papermill": {
     "duration": 0.448493,
     "end_time": "2023-12-23T05:47:32.413657",
     "exception": false,
     "start_time": "2023-12-23T05:47:31.965164",
     "status": "completed"
    },
    "tags": []
   },
   "outputs": [
    {
     "name": "stdout",
     "output_type": "stream",
     "text": [
      "/kaggle/input/iris-flower-dataset/IRIS.csv\n"
     ]
    }
   ],
   "source": [
    "# This Python 3 environment comes with many helpful analytics libraries installed\n",
    "# It is defined by the kaggle/python Docker image: https://github.com/kaggle/docker-python\n",
    "# For example, here's several helpful packages to load\n",
    "\n",
    "import numpy as np # linear algebra\n",
    "import pandas as pd # data processing, CSV file I/O (e.g. pd.read_csv)\n",
    "\n",
    "# Input data files are available in the read-only \"../input/\" directory\n",
    "# For example, running this (by clicking run or pressing Shift+Enter) will list all files under the input directory\n",
    "\n",
    "import os\n",
    "for dirname, _, filenames in os.walk('/kaggle/input'):\n",
    "    for filename in filenames:\n",
    "        print(os.path.join(dirname, filename))\n",
    "\n",
    "# You can write up to 20GB to the current directory (/kaggle/working/) that gets preserved as output when you create a version using \"Save & Run All\" \n",
    "# You can also write temporary files to /kaggle/temp/, but they won't be saved outside of the current session"
   ]
  },
  {
   "cell_type": "code",
   "execution_count": 2,
   "id": "c9bb8cff",
   "metadata": {
    "execution": {
     "iopub.execute_input": "2023-12-23T05:47:32.434226Z",
     "iopub.status.busy": "2023-12-23T05:47:32.433589Z",
     "iopub.status.idle": "2023-12-23T05:47:32.452444Z",
     "shell.execute_reply": "2023-12-23T05:47:32.451273Z"
    },
    "papermill": {
     "duration": 0.032427,
     "end_time": "2023-12-23T05:47:32.455484",
     "exception": false,
     "start_time": "2023-12-23T05:47:32.423057",
     "status": "completed"
    },
    "tags": []
   },
   "outputs": [],
   "source": [
    "data  = pd.read_csv(\"/kaggle/input/iris-flower-dataset/IRIS.csv\")"
   ]
  },
  {
   "cell_type": "code",
   "execution_count": 3,
   "id": "bc6399b2",
   "metadata": {
    "execution": {
     "iopub.execute_input": "2023-12-23T05:47:32.475709Z",
     "iopub.status.busy": "2023-12-23T05:47:32.474930Z",
     "iopub.status.idle": "2023-12-23T05:47:32.500567Z",
     "shell.execute_reply": "2023-12-23T05:47:32.499525Z"
    },
    "papermill": {
     "duration": 0.038859,
     "end_time": "2023-12-23T05:47:32.503336",
     "exception": false,
     "start_time": "2023-12-23T05:47:32.464477",
     "status": "completed"
    },
    "tags": []
   },
   "outputs": [
    {
     "data": {
      "text/html": [
       "<div>\n",
       "<style scoped>\n",
       "    .dataframe tbody tr th:only-of-type {\n",
       "        vertical-align: middle;\n",
       "    }\n",
       "\n",
       "    .dataframe tbody tr th {\n",
       "        vertical-align: top;\n",
       "    }\n",
       "\n",
       "    .dataframe thead th {\n",
       "        text-align: right;\n",
       "    }\n",
       "</style>\n",
       "<table border=\"1\" class=\"dataframe\">\n",
       "  <thead>\n",
       "    <tr style=\"text-align: right;\">\n",
       "      <th></th>\n",
       "      <th>sepal_length</th>\n",
       "      <th>sepal_width</th>\n",
       "      <th>petal_length</th>\n",
       "      <th>petal_width</th>\n",
       "      <th>species</th>\n",
       "    </tr>\n",
       "  </thead>\n",
       "  <tbody>\n",
       "    <tr>\n",
       "      <th>0</th>\n",
       "      <td>5.1</td>\n",
       "      <td>3.5</td>\n",
       "      <td>1.4</td>\n",
       "      <td>0.2</td>\n",
       "      <td>Iris-setosa</td>\n",
       "    </tr>\n",
       "    <tr>\n",
       "      <th>1</th>\n",
       "      <td>4.9</td>\n",
       "      <td>3.0</td>\n",
       "      <td>1.4</td>\n",
       "      <td>0.2</td>\n",
       "      <td>Iris-setosa</td>\n",
       "    </tr>\n",
       "    <tr>\n",
       "      <th>2</th>\n",
       "      <td>4.7</td>\n",
       "      <td>3.2</td>\n",
       "      <td>1.3</td>\n",
       "      <td>0.2</td>\n",
       "      <td>Iris-setosa</td>\n",
       "    </tr>\n",
       "    <tr>\n",
       "      <th>3</th>\n",
       "      <td>4.6</td>\n",
       "      <td>3.1</td>\n",
       "      <td>1.5</td>\n",
       "      <td>0.2</td>\n",
       "      <td>Iris-setosa</td>\n",
       "    </tr>\n",
       "    <tr>\n",
       "      <th>4</th>\n",
       "      <td>5.0</td>\n",
       "      <td>3.6</td>\n",
       "      <td>1.4</td>\n",
       "      <td>0.2</td>\n",
       "      <td>Iris-setosa</td>\n",
       "    </tr>\n",
       "  </tbody>\n",
       "</table>\n",
       "</div>"
      ],
      "text/plain": [
       "   sepal_length  sepal_width  petal_length  petal_width      species\n",
       "0           5.1          3.5           1.4          0.2  Iris-setosa\n",
       "1           4.9          3.0           1.4          0.2  Iris-setosa\n",
       "2           4.7          3.2           1.3          0.2  Iris-setosa\n",
       "3           4.6          3.1           1.5          0.2  Iris-setosa\n",
       "4           5.0          3.6           1.4          0.2  Iris-setosa"
      ]
     },
     "execution_count": 3,
     "metadata": {},
     "output_type": "execute_result"
    }
   ],
   "source": [
    "data.head()"
   ]
  },
  {
   "cell_type": "code",
   "execution_count": 4,
   "id": "23c84871",
   "metadata": {
    "execution": {
     "iopub.execute_input": "2023-12-23T05:47:32.524112Z",
     "iopub.status.busy": "2023-12-23T05:47:32.523444Z",
     "iopub.status.idle": "2023-12-23T05:47:32.551110Z",
     "shell.execute_reply": "2023-12-23T05:47:32.550260Z"
    },
    "papermill": {
     "duration": 0.040754,
     "end_time": "2023-12-23T05:47:32.553596",
     "exception": false,
     "start_time": "2023-12-23T05:47:32.512842",
     "status": "completed"
    },
    "tags": []
   },
   "outputs": [
    {
     "name": "stdout",
     "output_type": "stream",
     "text": [
      "<class 'pandas.core.frame.DataFrame'>\n",
      "RangeIndex: 150 entries, 0 to 149\n",
      "Data columns (total 5 columns):\n",
      " #   Column        Non-Null Count  Dtype  \n",
      "---  ------        --------------  -----  \n",
      " 0   sepal_length  150 non-null    float64\n",
      " 1   sepal_width   150 non-null    float64\n",
      " 2   petal_length  150 non-null    float64\n",
      " 3   petal_width   150 non-null    float64\n",
      " 4   species       150 non-null    object \n",
      "dtypes: float64(4), object(1)\n",
      "memory usage: 6.0+ KB\n"
     ]
    }
   ],
   "source": [
    "data.info()"
   ]
  },
  {
   "cell_type": "code",
   "execution_count": 5,
   "id": "ee002233",
   "metadata": {
    "execution": {
     "iopub.execute_input": "2023-12-23T05:47:32.574017Z",
     "iopub.status.busy": "2023-12-23T05:47:32.573363Z",
     "iopub.status.idle": "2023-12-23T05:47:32.597165Z",
     "shell.execute_reply": "2023-12-23T05:47:32.596087Z"
    },
    "papermill": {
     "duration": 0.037163,
     "end_time": "2023-12-23T05:47:32.599926",
     "exception": false,
     "start_time": "2023-12-23T05:47:32.562763",
     "status": "completed"
    },
    "tags": []
   },
   "outputs": [
    {
     "data": {
      "text/html": [
       "<div>\n",
       "<style scoped>\n",
       "    .dataframe tbody tr th:only-of-type {\n",
       "        vertical-align: middle;\n",
       "    }\n",
       "\n",
       "    .dataframe tbody tr th {\n",
       "        vertical-align: top;\n",
       "    }\n",
       "\n",
       "    .dataframe thead th {\n",
       "        text-align: right;\n",
       "    }\n",
       "</style>\n",
       "<table border=\"1\" class=\"dataframe\">\n",
       "  <thead>\n",
       "    <tr style=\"text-align: right;\">\n",
       "      <th></th>\n",
       "      <th>sepal_length</th>\n",
       "      <th>sepal_width</th>\n",
       "      <th>petal_length</th>\n",
       "      <th>petal_width</th>\n",
       "    </tr>\n",
       "  </thead>\n",
       "  <tbody>\n",
       "    <tr>\n",
       "      <th>count</th>\n",
       "      <td>150.000000</td>\n",
       "      <td>150.000000</td>\n",
       "      <td>150.000000</td>\n",
       "      <td>150.000000</td>\n",
       "    </tr>\n",
       "    <tr>\n",
       "      <th>mean</th>\n",
       "      <td>5.843333</td>\n",
       "      <td>3.054000</td>\n",
       "      <td>3.758667</td>\n",
       "      <td>1.198667</td>\n",
       "    </tr>\n",
       "    <tr>\n",
       "      <th>std</th>\n",
       "      <td>0.828066</td>\n",
       "      <td>0.433594</td>\n",
       "      <td>1.764420</td>\n",
       "      <td>0.763161</td>\n",
       "    </tr>\n",
       "    <tr>\n",
       "      <th>min</th>\n",
       "      <td>4.300000</td>\n",
       "      <td>2.000000</td>\n",
       "      <td>1.000000</td>\n",
       "      <td>0.100000</td>\n",
       "    </tr>\n",
       "    <tr>\n",
       "      <th>25%</th>\n",
       "      <td>5.100000</td>\n",
       "      <td>2.800000</td>\n",
       "      <td>1.600000</td>\n",
       "      <td>0.300000</td>\n",
       "    </tr>\n",
       "    <tr>\n",
       "      <th>50%</th>\n",
       "      <td>5.800000</td>\n",
       "      <td>3.000000</td>\n",
       "      <td>4.350000</td>\n",
       "      <td>1.300000</td>\n",
       "    </tr>\n",
       "    <tr>\n",
       "      <th>75%</th>\n",
       "      <td>6.400000</td>\n",
       "      <td>3.300000</td>\n",
       "      <td>5.100000</td>\n",
       "      <td>1.800000</td>\n",
       "    </tr>\n",
       "    <tr>\n",
       "      <th>max</th>\n",
       "      <td>7.900000</td>\n",
       "      <td>4.400000</td>\n",
       "      <td>6.900000</td>\n",
       "      <td>2.500000</td>\n",
       "    </tr>\n",
       "  </tbody>\n",
       "</table>\n",
       "</div>"
      ],
      "text/plain": [
       "       sepal_length  sepal_width  petal_length  petal_width\n",
       "count    150.000000   150.000000    150.000000   150.000000\n",
       "mean       5.843333     3.054000      3.758667     1.198667\n",
       "std        0.828066     0.433594      1.764420     0.763161\n",
       "min        4.300000     2.000000      1.000000     0.100000\n",
       "25%        5.100000     2.800000      1.600000     0.300000\n",
       "50%        5.800000     3.000000      4.350000     1.300000\n",
       "75%        6.400000     3.300000      5.100000     1.800000\n",
       "max        7.900000     4.400000      6.900000     2.500000"
      ]
     },
     "execution_count": 5,
     "metadata": {},
     "output_type": "execute_result"
    }
   ],
   "source": [
    "data.describe()"
   ]
  },
  {
   "cell_type": "code",
   "execution_count": 6,
   "id": "5277742c",
   "metadata": {
    "execution": {
     "iopub.execute_input": "2023-12-23T05:47:32.621077Z",
     "iopub.status.busy": "2023-12-23T05:47:32.620641Z",
     "iopub.status.idle": "2023-12-23T05:47:33.734177Z",
     "shell.execute_reply": "2023-12-23T05:47:33.733175Z"
    },
    "papermill": {
     "duration": 1.127461,
     "end_time": "2023-12-23T05:47:33.736917",
     "exception": false,
     "start_time": "2023-12-23T05:47:32.609456",
     "status": "completed"
    },
    "tags": []
   },
   "outputs": [],
   "source": [
    "from sklearn.preprocessing import LabelEncoder\n",
    "encoder = LabelEncoder()"
   ]
  },
  {
   "cell_type": "code",
   "execution_count": 7,
   "id": "ac6ecd9e",
   "metadata": {
    "execution": {
     "iopub.execute_input": "2023-12-23T05:47:33.757476Z",
     "iopub.status.busy": "2023-12-23T05:47:33.757084Z",
     "iopub.status.idle": "2023-12-23T05:47:33.762625Z",
     "shell.execute_reply": "2023-12-23T05:47:33.761482Z"
    },
    "papermill": {
     "duration": 0.018544,
     "end_time": "2023-12-23T05:47:33.764831",
     "exception": false,
     "start_time": "2023-12-23T05:47:33.746287",
     "status": "completed"
    },
    "tags": []
   },
   "outputs": [],
   "source": [
    "data['species'] = encoder.fit_transform(data['species'])"
   ]
  },
  {
   "cell_type": "code",
   "execution_count": 8,
   "id": "2308dc74",
   "metadata": {
    "execution": {
     "iopub.execute_input": "2023-12-23T05:47:33.785420Z",
     "iopub.status.busy": "2023-12-23T05:47:33.784979Z",
     "iopub.status.idle": "2023-12-23T05:47:33.792545Z",
     "shell.execute_reply": "2023-12-23T05:47:33.791361Z"
    },
    "papermill": {
     "duration": 0.020605,
     "end_time": "2023-12-23T05:47:33.794855",
     "exception": false,
     "start_time": "2023-12-23T05:47:33.774250",
     "status": "completed"
    },
    "tags": []
   },
   "outputs": [],
   "source": [
    "X =data.iloc[:,[0,1,2,3]]"
   ]
  },
  {
   "cell_type": "code",
   "execution_count": 9,
   "id": "78714dac",
   "metadata": {
    "execution": {
     "iopub.execute_input": "2023-12-23T05:47:33.816082Z",
     "iopub.status.busy": "2023-12-23T05:47:33.815063Z",
     "iopub.status.idle": "2023-12-23T05:47:33.820236Z",
     "shell.execute_reply": "2023-12-23T05:47:33.819371Z"
    },
    "papermill": {
     "duration": 0.018061,
     "end_time": "2023-12-23T05:47:33.822331",
     "exception": false,
     "start_time": "2023-12-23T05:47:33.804270",
     "status": "completed"
    },
    "tags": []
   },
   "outputs": [],
   "source": [
    "Y = data.iloc[:,-1]"
   ]
  },
  {
   "cell_type": "code",
   "execution_count": 10,
   "id": "ff392f02",
   "metadata": {
    "execution": {
     "iopub.execute_input": "2023-12-23T05:47:33.843904Z",
     "iopub.status.busy": "2023-12-23T05:47:33.842712Z",
     "iopub.status.idle": "2023-12-23T05:47:33.861569Z",
     "shell.execute_reply": "2023-12-23T05:47:33.860225Z"
    },
    "papermill": {
     "duration": 0.032319,
     "end_time": "2023-12-23T05:47:33.864177",
     "exception": false,
     "start_time": "2023-12-23T05:47:33.831858",
     "status": "completed"
    },
    "tags": []
   },
   "outputs": [
    {
     "data": {
      "text/html": [
       "<div>\n",
       "<style scoped>\n",
       "    .dataframe tbody tr th:only-of-type {\n",
       "        vertical-align: middle;\n",
       "    }\n",
       "\n",
       "    .dataframe tbody tr th {\n",
       "        vertical-align: top;\n",
       "    }\n",
       "\n",
       "    .dataframe thead th {\n",
       "        text-align: right;\n",
       "    }\n",
       "</style>\n",
       "<table border=\"1\" class=\"dataframe\">\n",
       "  <thead>\n",
       "    <tr style=\"text-align: right;\">\n",
       "      <th></th>\n",
       "      <th>sepal_length</th>\n",
       "      <th>sepal_width</th>\n",
       "      <th>petal_length</th>\n",
       "      <th>petal_width</th>\n",
       "    </tr>\n",
       "  </thead>\n",
       "  <tbody>\n",
       "    <tr>\n",
       "      <th>0</th>\n",
       "      <td>5.1</td>\n",
       "      <td>3.5</td>\n",
       "      <td>1.4</td>\n",
       "      <td>0.2</td>\n",
       "    </tr>\n",
       "    <tr>\n",
       "      <th>1</th>\n",
       "      <td>4.9</td>\n",
       "      <td>3.0</td>\n",
       "      <td>1.4</td>\n",
       "      <td>0.2</td>\n",
       "    </tr>\n",
       "    <tr>\n",
       "      <th>2</th>\n",
       "      <td>4.7</td>\n",
       "      <td>3.2</td>\n",
       "      <td>1.3</td>\n",
       "      <td>0.2</td>\n",
       "    </tr>\n",
       "    <tr>\n",
       "      <th>3</th>\n",
       "      <td>4.6</td>\n",
       "      <td>3.1</td>\n",
       "      <td>1.5</td>\n",
       "      <td>0.2</td>\n",
       "    </tr>\n",
       "    <tr>\n",
       "      <th>4</th>\n",
       "      <td>5.0</td>\n",
       "      <td>3.6</td>\n",
       "      <td>1.4</td>\n",
       "      <td>0.2</td>\n",
       "    </tr>\n",
       "    <tr>\n",
       "      <th>...</th>\n",
       "      <td>...</td>\n",
       "      <td>...</td>\n",
       "      <td>...</td>\n",
       "      <td>...</td>\n",
       "    </tr>\n",
       "    <tr>\n",
       "      <th>145</th>\n",
       "      <td>6.7</td>\n",
       "      <td>3.0</td>\n",
       "      <td>5.2</td>\n",
       "      <td>2.3</td>\n",
       "    </tr>\n",
       "    <tr>\n",
       "      <th>146</th>\n",
       "      <td>6.3</td>\n",
       "      <td>2.5</td>\n",
       "      <td>5.0</td>\n",
       "      <td>1.9</td>\n",
       "    </tr>\n",
       "    <tr>\n",
       "      <th>147</th>\n",
       "      <td>6.5</td>\n",
       "      <td>3.0</td>\n",
       "      <td>5.2</td>\n",
       "      <td>2.0</td>\n",
       "    </tr>\n",
       "    <tr>\n",
       "      <th>148</th>\n",
       "      <td>6.2</td>\n",
       "      <td>3.4</td>\n",
       "      <td>5.4</td>\n",
       "      <td>2.3</td>\n",
       "    </tr>\n",
       "    <tr>\n",
       "      <th>149</th>\n",
       "      <td>5.9</td>\n",
       "      <td>3.0</td>\n",
       "      <td>5.1</td>\n",
       "      <td>1.8</td>\n",
       "    </tr>\n",
       "  </tbody>\n",
       "</table>\n",
       "<p>150 rows × 4 columns</p>\n",
       "</div>"
      ],
      "text/plain": [
       "     sepal_length  sepal_width  petal_length  petal_width\n",
       "0             5.1          3.5           1.4          0.2\n",
       "1             4.9          3.0           1.4          0.2\n",
       "2             4.7          3.2           1.3          0.2\n",
       "3             4.6          3.1           1.5          0.2\n",
       "4             5.0          3.6           1.4          0.2\n",
       "..            ...          ...           ...          ...\n",
       "145           6.7          3.0           5.2          2.3\n",
       "146           6.3          2.5           5.0          1.9\n",
       "147           6.5          3.0           5.2          2.0\n",
       "148           6.2          3.4           5.4          2.3\n",
       "149           5.9          3.0           5.1          1.8\n",
       "\n",
       "[150 rows x 4 columns]"
      ]
     },
     "execution_count": 10,
     "metadata": {},
     "output_type": "execute_result"
    }
   ],
   "source": [
    "X"
   ]
  },
  {
   "cell_type": "code",
   "execution_count": 11,
   "id": "990c9505",
   "metadata": {
    "execution": {
     "iopub.execute_input": "2023-12-23T05:47:33.886032Z",
     "iopub.status.busy": "2023-12-23T05:47:33.885610Z",
     "iopub.status.idle": "2023-12-23T05:47:33.893800Z",
     "shell.execute_reply": "2023-12-23T05:47:33.892755Z"
    },
    "papermill": {
     "duration": 0.022117,
     "end_time": "2023-12-23T05:47:33.896356",
     "exception": false,
     "start_time": "2023-12-23T05:47:33.874239",
     "status": "completed"
    },
    "tags": []
   },
   "outputs": [
    {
     "data": {
      "text/plain": [
       "0      0\n",
       "1      0\n",
       "2      0\n",
       "3      0\n",
       "4      0\n",
       "      ..\n",
       "145    2\n",
       "146    2\n",
       "147    2\n",
       "148    2\n",
       "149    2\n",
       "Name: species, Length: 150, dtype: int64"
      ]
     },
     "execution_count": 11,
     "metadata": {},
     "output_type": "execute_result"
    }
   ],
   "source": [
    "Y"
   ]
  },
  {
   "cell_type": "code",
   "execution_count": 12,
   "id": "a88c0b29",
   "metadata": {
    "execution": {
     "iopub.execute_input": "2023-12-23T05:47:33.918318Z",
     "iopub.status.busy": "2023-12-23T05:47:33.917393Z",
     "iopub.status.idle": "2023-12-23T05:47:34.351166Z",
     "shell.execute_reply": "2023-12-23T05:47:34.350114Z"
    },
    "papermill": {
     "duration": 0.447933,
     "end_time": "2023-12-23T05:47:34.354145",
     "exception": false,
     "start_time": "2023-12-23T05:47:33.906212",
     "status": "completed"
    },
    "tags": []
   },
   "outputs": [],
   "source": [
    "from sklearn.linear_model import LogisticRegression\n",
    "from sklearn.ensemble import RandomForestClassifier\n",
    "from sklearn.neighbors import KNeighborsClassifier\n",
    "from sklearn.model_selection import cross_val_score"
   ]
  },
  {
   "cell_type": "code",
   "execution_count": 13,
   "id": "3bd1cb62",
   "metadata": {
    "execution": {
     "iopub.execute_input": "2023-12-23T05:47:34.376382Z",
     "iopub.status.busy": "2023-12-23T05:47:34.375948Z",
     "iopub.status.idle": "2023-12-23T05:47:34.381455Z",
     "shell.execute_reply": "2023-12-23T05:47:34.380400Z"
    },
    "papermill": {
     "duration": 0.019672,
     "end_time": "2023-12-23T05:47:34.383928",
     "exception": false,
     "start_time": "2023-12-23T05:47:34.364256",
     "status": "completed"
    },
    "tags": []
   },
   "outputs": [],
   "source": [
    "clf1 = LogisticRegression(solver='sag', max_iter=2000)\n",
    "clf2 = RandomForestClassifier()\n",
    "clf3 = KNeighborsClassifier()"
   ]
  },
  {
   "cell_type": "code",
   "execution_count": 14,
   "id": "6ccb6a2a",
   "metadata": {
    "execution": {
     "iopub.execute_input": "2023-12-23T05:47:34.406459Z",
     "iopub.status.busy": "2023-12-23T05:47:34.406024Z",
     "iopub.status.idle": "2023-12-23T05:47:37.141943Z",
     "shell.execute_reply": "2023-12-23T05:47:37.140509Z"
    },
    "papermill": {
     "duration": 2.75102,
     "end_time": "2023-12-23T05:47:37.144958",
     "exception": false,
     "start_time": "2023-12-23T05:47:34.393938",
     "status": "completed"
    },
    "tags": []
   },
   "outputs": [
    {
     "name": "stdout",
     "output_type": "stream",
     "text": [
      "lr 0.97\n",
      "rfc 0.97\n",
      "knc 0.97\n"
     ]
    }
   ],
   "source": [
    "estimators_list = [('lr', clf1), ('rfc', clf2), ('knc', clf3)]\n",
    "for estimator_tuple in estimators_list:\n",
    "    x = cross_val_score(estimator_tuple[1], X, Y, cv=10, scoring='accuracy')\n",
    "    print(estimator_tuple[0], np.round(np.mean(x), 2))"
   ]
  },
  {
   "cell_type": "code",
   "execution_count": 15,
   "id": "99239543",
   "metadata": {
    "execution": {
     "iopub.execute_input": "2023-12-23T05:47:37.168234Z",
     "iopub.status.busy": "2023-12-23T05:47:37.167795Z",
     "iopub.status.idle": "2023-12-23T05:47:37.173267Z",
     "shell.execute_reply": "2023-12-23T05:47:37.172196Z"
    },
    "papermill": {
     "duration": 0.020039,
     "end_time": "2023-12-23T05:47:37.175631",
     "exception": false,
     "start_time": "2023-12-23T05:47:37.155592",
     "status": "completed"
    },
    "tags": []
   },
   "outputs": [],
   "source": [
    "from sklearn.ensemble import VotingClassifier"
   ]
  },
  {
   "cell_type": "markdown",
   "id": "4b12de76",
   "metadata": {
    "papermill": {
     "duration": 0.009753,
     "end_time": "2023-12-23T05:47:37.195590",
     "exception": false,
     "start_time": "2023-12-23T05:47:37.185837",
     "status": "completed"
    },
    "tags": []
   },
   "source": [
    "### Hard Voting"
   ]
  },
  {
   "cell_type": "code",
   "execution_count": 16,
   "id": "10164e7a",
   "metadata": {
    "execution": {
     "iopub.execute_input": "2023-12-23T05:47:37.218162Z",
     "iopub.status.busy": "2023-12-23T05:47:37.217723Z",
     "iopub.status.idle": "2023-12-23T05:47:39.999454Z",
     "shell.execute_reply": "2023-12-23T05:47:39.998187Z"
    },
    "papermill": {
     "duration": 2.796198,
     "end_time": "2023-12-23T05:47:40.002186",
     "exception": false,
     "start_time": "2023-12-23T05:47:37.205988",
     "status": "completed"
    },
    "tags": []
   },
   "outputs": [
    {
     "name": "stdout",
     "output_type": "stream",
     "text": [
      "0.97\n"
     ]
    }
   ],
   "source": [
    "vc = VotingClassifier(estimators=estimators_list, voting='hard')\n",
    "x = cross_val_score(vc, X, Y, cv=10, scoring='accuracy')\n",
    "print(np.round(np.mean(x), 2))"
   ]
  },
  {
   "cell_type": "markdown",
   "id": "521f5b3f",
   "metadata": {
    "papermill": {
     "duration": 0.010078,
     "end_time": "2023-12-23T05:47:40.022674",
     "exception": false,
     "start_time": "2023-12-23T05:47:40.012596",
     "status": "completed"
    },
    "tags": []
   },
   "source": [
    "### Soft Voting"
   ]
  },
  {
   "cell_type": "code",
   "execution_count": 17,
   "id": "4b139a37",
   "metadata": {
    "execution": {
     "iopub.execute_input": "2023-12-23T05:47:40.045764Z",
     "iopub.status.busy": "2023-12-23T05:47:40.045060Z",
     "iopub.status.idle": "2023-12-23T05:47:42.758934Z",
     "shell.execute_reply": "2023-12-23T05:47:42.757389Z"
    },
    "papermill": {
     "duration": 2.729185,
     "end_time": "2023-12-23T05:47:42.762196",
     "exception": false,
     "start_time": "2023-12-23T05:47:40.033011",
     "status": "completed"
    },
    "tags": []
   },
   "outputs": [
    {
     "name": "stdout",
     "output_type": "stream",
     "text": [
      "0.97\n"
     ]
    }
   ],
   "source": [
    "vc1 = VotingClassifier(estimators=estimators_list, voting='soft')\n",
    "x = cross_val_score(vc,X,Y,cv = 10, scoring = 'accuracy')\n",
    "print(np.round(np.mean(x),2))"
   ]
  },
  {
   "cell_type": "code",
   "execution_count": 18,
   "id": "436ab58e",
   "metadata": {
    "execution": {
     "iopub.execute_input": "2023-12-23T05:47:42.784950Z",
     "iopub.status.busy": "2023-12-23T05:47:42.784524Z",
     "iopub.status.idle": "2023-12-23T05:48:55.532961Z",
     "shell.execute_reply": "2023-12-23T05:48:55.531743Z"
    },
    "papermill": {
     "duration": 72.76306,
     "end_time": "2023-12-23T05:48:55.535879",
     "exception": false,
     "start_time": "2023-12-23T05:47:42.772819",
     "status": "completed"
    },
    "tags": []
   },
   "outputs": [
    {
     "name": "stdout",
     "output_type": "stream",
     "text": [
      "for i=1,j=1,k=1 0.96\n",
      "for i=1,j=1,k=2 0.96\n",
      "for i=1,j=1,k=3 0.96\n",
      "for i=1,j=2,k=1 0.96\n",
      "for i=1,j=2,k=2 0.96\n",
      "for i=1,j=2,k=3 0.96\n",
      "for i=1,j=3,k=1 0.97\n",
      "for i=1,j=3,k=2 0.96\n",
      "for i=1,j=3,k=3 0.95\n",
      "for i=2,j=1,k=1 0.97\n",
      "for i=2,j=1,k=2 0.96\n",
      "for i=2,j=1,k=3 0.96\n",
      "for i=2,j=2,k=1 0.97\n",
      "for i=2,j=2,k=2 0.96\n",
      "for i=2,j=2,k=3 0.96\n",
      "for i=2,j=3,k=1 0.97\n",
      "for i=2,j=3,k=2 0.96\n",
      "for i=2,j=3,k=3 0.96\n",
      "for i=3,j=1,k=1 0.96\n",
      "for i=3,j=1,k=2 0.96\n",
      "for i=3,j=1,k=3 0.97\n",
      "for i=3,j=2,k=1 0.97\n",
      "for i=3,j=2,k=2 0.96\n",
      "for i=3,j=2,k=3 0.96\n",
      "for i=3,j=3,k=1 0.97\n",
      "for i=3,j=3,k=2 0.97\n",
      "for i=3,j=3,k=3 0.96\n"
     ]
    }
   ],
   "source": [
    "for i in range(1,4):\n",
    "    for j in range(1,4):\n",
    "        for k in range(1,4):\n",
    "            vc = VotingClassifier(estimators=estimators_list,voting='soft',weights=[i,j,k])\n",
    "            x = cross_val_score(vc,X,Y,cv=10,scoring='accuracy')\n",
    "            print(\"for i={},j={},k={}\".format(i,j,k),np.round(np.mean(x),2))"
   ]
  },
  {
   "cell_type": "markdown",
   "id": "df62f6d5",
   "metadata": {
    "papermill": {
     "duration": 0.012476,
     "end_time": "2023-12-23T05:48:55.561300",
     "exception": false,
     "start_time": "2023-12-23T05:48:55.548824",
     "status": "completed"
    },
    "tags": []
   },
   "source": [
    "### Classify by using same algo "
   ]
  },
  {
   "cell_type": "code",
   "execution_count": 19,
   "id": "4bfc33d7",
   "metadata": {
    "execution": {
     "iopub.execute_input": "2023-12-23T05:48:55.589396Z",
     "iopub.status.busy": "2023-12-23T05:48:55.588383Z",
     "iopub.status.idle": "2023-12-23T05:48:55.593838Z",
     "shell.execute_reply": "2023-12-23T05:48:55.592586Z"
    },
    "papermill": {
     "duration": 0.022056,
     "end_time": "2023-12-23T05:48:55.596294",
     "exception": false,
     "start_time": "2023-12-23T05:48:55.574238",
     "status": "completed"
    },
    "tags": []
   },
   "outputs": [],
   "source": [
    "from sklearn.svm import SVC"
   ]
  },
  {
   "cell_type": "code",
   "execution_count": 20,
   "id": "b8f5527a",
   "metadata": {
    "execution": {
     "iopub.execute_input": "2023-12-23T05:48:55.624707Z",
     "iopub.status.busy": "2023-12-23T05:48:55.624296Z",
     "iopub.status.idle": "2023-12-23T05:48:55.630620Z",
     "shell.execute_reply": "2023-12-23T05:48:55.629729Z"
    },
    "papermill": {
     "duration": 0.023186,
     "end_time": "2023-12-23T05:48:55.632847",
     "exception": false,
     "start_time": "2023-12-23T05:48:55.609661",
     "status": "completed"
    },
    "tags": []
   },
   "outputs": [],
   "source": [
    "clf1 = SVC(kernel='poly',probability=True,degree=1)\n",
    "clf2 = SVC(kernel='poly',probability=True, degree=2)\n",
    "clf3 = SVC(kernel='poly',probability=True, degree=3)\n",
    "clf4 = SVC(kernel='poly',probability=True, degree=4)\n",
    "clf5 = SVC(kernel='poly',probability=True, degree=5)"
   ]
  },
  {
   "cell_type": "code",
   "execution_count": 21,
   "id": "69d516ec",
   "metadata": {
    "execution": {
     "iopub.execute_input": "2023-12-23T05:48:55.661976Z",
     "iopub.status.busy": "2023-12-23T05:48:55.661335Z",
     "iopub.status.idle": "2023-12-23T05:48:55.666146Z",
     "shell.execute_reply": "2023-12-23T05:48:55.665089Z"
    },
    "papermill": {
     "duration": 0.021447,
     "end_time": "2023-12-23T05:48:55.668422",
     "exception": false,
     "start_time": "2023-12-23T05:48:55.646975",
     "status": "completed"
    },
    "tags": []
   },
   "outputs": [],
   "source": [
    "estimators_list2 = [('clf1',clf1),('clf2',clf2),('clf3',clf3),('clf4',clf4),('clf5',clf5)]"
   ]
  },
  {
   "cell_type": "code",
   "execution_count": 22,
   "id": "b50997d5",
   "metadata": {
    "execution": {
     "iopub.execute_input": "2023-12-23T05:48:55.696502Z",
     "iopub.status.busy": "2023-12-23T05:48:55.695839Z",
     "iopub.status.idle": "2023-12-23T05:48:56.056218Z",
     "shell.execute_reply": "2023-12-23T05:48:56.055082Z"
    },
    "papermill": {
     "duration": 0.377363,
     "end_time": "2023-12-23T05:48:56.058720",
     "exception": false,
     "start_time": "2023-12-23T05:48:55.681357",
     "status": "completed"
    },
    "tags": []
   },
   "outputs": [
    {
     "name": "stdout",
     "output_type": "stream",
     "text": [
      "0.97\n",
      "0.97\n",
      "0.97\n",
      "0.98\n",
      "0.97\n"
     ]
    }
   ],
   "source": [
    "for estimator in estimators_list2:\n",
    "    x = cross_val_score(estimator[1], X,Y,cv =10, scoring='accuracy')\n",
    "    print(np.round(np.mean(x),2))"
   ]
  },
  {
   "cell_type": "code",
   "execution_count": 23,
   "id": "d6bacb01",
   "metadata": {
    "execution": {
     "iopub.execute_input": "2023-12-23T05:48:56.087252Z",
     "iopub.status.busy": "2023-12-23T05:48:56.086540Z",
     "iopub.status.idle": "2023-12-23T05:48:56.418642Z",
     "shell.execute_reply": "2023-12-23T05:48:56.417391Z"
    },
    "papermill": {
     "duration": 0.349257,
     "end_time": "2023-12-23T05:48:56.421117",
     "exception": false,
     "start_time": "2023-12-23T05:48:56.071860",
     "status": "completed"
    },
    "tags": []
   },
   "outputs": [
    {
     "name": "stdout",
     "output_type": "stream",
     "text": [
      "0.97\n"
     ]
    }
   ],
   "source": [
    "vc2 = VotingClassifier(estimators=estimators_list2, voting ='soft')\n",
    "x = cross_val_score(vc2, X,Y,cv = 10, scoring = 'accuracy')\n",
    "print(np.round(np.mean(x),2))"
   ]
  },
  {
   "cell_type": "code",
   "execution_count": null,
   "id": "1c86b4e3",
   "metadata": {
    "papermill": {
     "duration": 0.012905,
     "end_time": "2023-12-23T05:48:56.447198",
     "exception": false,
     "start_time": "2023-12-23T05:48:56.434293",
     "status": "completed"
    },
    "tags": []
   },
   "outputs": [],
   "source": []
  }
 ],
 "metadata": {
  "kaggle": {
   "accelerator": "none",
   "dataSources": [
    {
     "datasetId": 17860,
     "sourceId": 23404,
     "sourceType": "datasetVersion"
    }
   ],
   "dockerImageVersionId": 30626,
   "isGpuEnabled": false,
   "isInternetEnabled": true,
   "language": "python",
   "sourceType": "notebook"
  },
  "kernelspec": {
   "display_name": "Python 3",
   "language": "python",
   "name": "python3"
  },
  "language_info": {
   "codemirror_mode": {
    "name": "ipython",
    "version": 3
   },
   "file_extension": ".py",
   "mimetype": "text/x-python",
   "name": "python",
   "nbconvert_exporter": "python",
   "pygments_lexer": "ipython3",
   "version": "3.10.12"
  },
  "papermill": {
   "default_parameters": {},
   "duration": 88.510745,
   "end_time": "2023-12-23T05:48:57.081868",
   "environment_variables": {},
   "exception": null,
   "input_path": "__notebook__.ipynb",
   "output_path": "__notebook__.ipynb",
   "parameters": {},
   "start_time": "2023-12-23T05:47:28.571123",
   "version": "2.4.0"
  }
 },
 "nbformat": 4,
 "nbformat_minor": 5
}
